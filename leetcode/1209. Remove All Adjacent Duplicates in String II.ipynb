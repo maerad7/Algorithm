{
 "cells": [
  {
   "cell_type": "code",
   "execution_count": 56,
   "id": "79891ff7-a4d9-4055-9952-56f0dcfb5f73",
   "metadata": {},
   "outputs": [],
   "source": [
    "s = \"pbbcggttciiippooaais\"\n",
    "k = 2"
   ]
  },
  {
   "cell_type": "code",
   "execution_count": 59,
   "id": "df9e7cb2",
   "metadata": {},
   "outputs": [
    {
     "name": "stdout",
     "output_type": "stream",
     "text": [
      "ps\n"
     ]
    }
   ],
   "source": [
    "stack = []\n",
    "count_list = []\n",
    "for i in range(0,len(s)):\n",
    "    if i == 0:\n",
    "        stack.append(s[i])\n",
    "        count_list.append(1)\n",
    "    elif s[i] == stack[-1]:\n",
    "        dup_count = count_list[-1]\n",
    "        if dup_count < k-1:\n",
    "            stack.append(s[i])\n",
    "            count_list.append(dup_count+1)\n",
    "        if dup_count == k-1:\n",
    "            for _ in range(k-1):\n",
    "                stack.pop()\n",
    "                count_list.pop()\n",
    "    else:\n",
    "        stack.append(s[i])\n",
    "        count_nums = 1\n",
    "        count_list.append(1)\n",
    "print(\"\".join(stack))"
   ]
  }
 ],
 "metadata": {
  "kernelspec": {
   "display_name": "Python 3 (ipykernel)",
   "language": "python",
   "name": "python3"
  },
  "language_info": {
   "codemirror_mode": {
    "name": "ipython",
    "version": 3
   },
   "file_extension": ".py",
   "mimetype": "text/x-python",
   "name": "python",
   "nbconvert_exporter": "python",
   "pygments_lexer": "ipython3",
   "version": "3.10.4"
  }
 },
 "nbformat": 4,
 "nbformat_minor": 5
}
