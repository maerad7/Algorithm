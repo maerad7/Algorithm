{
 "cells": [
  {
   "cell_type": "code",
   "execution_count": 4,
   "id": "4581e8d7",
   "metadata": {},
   "outputs": [
    {
     "name": "stdout",
     "output_type": "stream",
     "text": [
      "3\n",
      "26 40 83\n",
      "49 60 57\n",
      "13 89 99\n",
      "96\n"
     ]
    }
   ],
   "source": [
    "n = int(input())\n",
    "dp = []\n",
    "for i in range(n):\n",
    "    dp.append(list(map(int,input().split())))\n",
    "for i in range(1,len(dp)):\n",
    "    dp[i][0] = min(dp[i-1][1],dp[i-1][2]) + dp[i][0]\n",
    "    dp[i][1] = min(dp[i-1][0],dp[i-1][2]) + dp[i][1]\n",
    "    dp[i][2] = min(dp[i-1][0],dp[i-1][1]) + dp[i][2]\n",
    "\n",
    "print(min(dp[n-1][0],dp[n-1][1],dp[n-1][2]))"
   ]
  },
  {
   "cell_type": "code",
   "execution_count": 2,
   "id": "9c18c280",
   "metadata": {},
   "outputs": [
    {
     "data": {
      "text/plain": [
       "[[26, 40, 83], [49, 60, 57], [13, 89, 99]]"
      ]
     },
     "execution_count": 2,
     "metadata": {},
     "output_type": "execute_result"
    }
   ],
   "source": [
    "colors"
   ]
  },
  {
   "cell_type": "code",
   "execution_count": null,
   "id": "09c41aeb",
   "metadata": {},
   "outputs": [],
   "source": [
    "\n"
   ]
  }
 ],
 "metadata": {
  "kernelspec": {
   "display_name": "Python 3 (ipykernel)",
   "language": "python",
   "name": "python3"
  },
  "language_info": {
   "codemirror_mode": {
    "name": "ipython",
    "version": 3
   },
   "file_extension": ".py",
   "mimetype": "text/x-python",
   "name": "python",
   "nbconvert_exporter": "python",
   "pygments_lexer": "ipython3",
   "version": "3.9.12"
  }
 },
 "nbformat": 4,
 "nbformat_minor": 5
}
