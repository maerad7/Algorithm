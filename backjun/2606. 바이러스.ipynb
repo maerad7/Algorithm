{
 "cells": [
  {
   "cell_type": "code",
   "execution_count": 21,
   "id": "8abc257f",
   "metadata": {},
   "outputs": [
    {
     "name": "stdout",
     "output_type": "stream",
     "text": [
      "7\n",
      "6\n",
      "1 2\n",
      "2 3\n",
      "1 5\n",
      "5 2\n",
      "5 6\n",
      "4 7\n",
      "5\n"
     ]
    }
   ],
   "source": [
    "n = int(input())\n",
    "m = int(input())\n",
    "graph = [[] for _ in range(n+1)]\n",
    "for _ in range(m):\n",
    "    a,b = map(int,input().split())\n",
    "    graph[a].append(b)\n",
    "    graph[b].append(a)\n",
    "\n",
    "from collections import deque\n",
    "visited = [False] * (n+1)\n",
    "def bfs(start):\n",
    "    q = deque([start])\n",
    "    visited[start] = True\n",
    "    \n",
    "    while q:\n",
    "        v = q.popleft()\n",
    "        for i in graph[v]:\n",
    "            if not visited[i]:\n",
    "                q.append(i)\n",
    "                visited[i] = True\n",
    "         \n",
    "    return visited    \n",
    "\n",
    "count_array=bfs(1)\n",
    "\n",
    "count = 0\n",
    "for b in count_array:\n",
    "    if b:\n",
    "        count = count + 1\n",
    "print(count-1)\n",
    "\n"
   ]
  },
  {
   "cell_type": "code",
   "execution_count": 22,
   "id": "315f16c5",
   "metadata": {},
   "outputs": [
    {
     "data": {
      "text/plain": [
       "[False, True, True, True, False, True, True, False]"
      ]
     },
     "execution_count": 22,
     "metadata": {},
     "output_type": "execute_result"
    }
   ],
   "source": [
    "visited"
   ]
  },
  {
   "cell_type": "code",
   "execution_count": null,
   "id": "c4dceace",
   "metadata": {},
   "outputs": [],
   "source": []
  }
 ],
 "metadata": {
  "kernelspec": {
   "display_name": "Python 3 (ipykernel)",
   "language": "python",
   "name": "python3"
  },
  "language_info": {
   "codemirror_mode": {
    "name": "ipython",
    "version": 3
   },
   "file_extension": ".py",
   "mimetype": "text/x-python",
   "name": "python",
   "nbconvert_exporter": "python",
   "pygments_lexer": "ipython3",
   "version": "3.9.12"
  }
 },
 "nbformat": 4,
 "nbformat_minor": 5
}
