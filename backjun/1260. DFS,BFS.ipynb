{
 "cells": [
  {
   "cell_type": "code",
   "execution_count": 1,
   "id": "07db1811",
   "metadata": {},
   "outputs": [],
   "source": [
    "import sys\n",
    "from collections import deque\n",
    "\n",
    "# n 노드의 개수, m 간선의 개수, start 시작 노드\n",
    "n,m,start = map(int,input().split())\n",
    "visited = [False]*(n+1)\n",
    "\n",
    "graph=[[] for _ in range(n+1)]\n",
    "\n",
    "for _ in range(m):\n",
    "    node_start, node_end = map(int,input().split())\n",
    "    graph[node_start].append(node_end)\n",
    "    graph[node_end].append(node_start)\n",
    "    \n",
    "for i in range(len(graph)):\n",
    "    graph[i].sort()\n",
    "    \n",
    "def dfs(start):\n",
    "    print(start, end=\" \")\n",
    "    visited[start] = True\n",
    "    for i in graph[start]:\n",
    "        if not visited[i]:\n",
    "            dfs(i)\n",
    "            visited[i] = True\n",
    "            \n",
    "def bfs(start):\n",
    "    queue = deque([start])\n",
    "    visited[start] = True\n",
    "    while queue:\n",
    "        v = queue.popleft()\n",
    "        print(v, end=\" \")\n",
    "        for i in graph[v]:\n",
    "            if not visited[i]:\n",
    "                queue.append(i)\n",
    "                visited[i] = True\n",
    "\n",
    "dfs(start)\n",
    "visited = [False]*(n+1)\n",
    "print()\n",
    "bfs(start)\n",
    "        "
   ]
  }
 ],
 "metadata": {
  "kernelspec": {
   "display_name": "Python 3 (ipykernel)",
   "language": "python",
   "name": "python3"
  },
  "language_info": {
   "codemirror_mode": {
    "name": "ipython",
    "version": 3
   },
   "file_extension": ".py",
   "mimetype": "text/x-python",
   "name": "python",
   "nbconvert_exporter": "python",
   "pygments_lexer": "ipython3",
   "version": "3.9.12"
  }
 },
 "nbformat": 4,
 "nbformat_minor": 5
}
