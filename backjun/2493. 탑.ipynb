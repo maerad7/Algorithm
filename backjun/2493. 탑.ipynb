{
 "cells": [
  {
   "cell_type": "code",
   "execution_count": 20,
   "id": "197bf294",
   "metadata": {},
   "outputs": [
    {
     "name": "stdout",
     "output_type": "stream",
     "text": [
      "5\n",
      "6 9 5 7 4\n"
     ]
    }
   ],
   "source": [
    "n = int(input())\n",
    "nums = list(map(int,input().split()))"
   ]
  },
  {
   "cell_type": "code",
   "execution_count": 32,
   "id": "5ea81735",
   "metadata": {},
   "outputs": [],
   "source": [
    "nums_list = nums.copy()"
   ]
  },
  {
   "cell_type": "code",
   "execution_count": 46,
   "id": "a64394ba",
   "metadata": {},
   "outputs": [
    {
     "name": "stdout",
     "output_type": "stream",
     "text": [
      "0 0 2 2 4\n"
     ]
    }
   ],
   "source": [
    "stack = []\n",
    "solution = [0 for i in range(n)]\n",
    "for i in range(n):\n",
    "    while stack:\n",
    "        if stack[-1][1] > nums_list[i]:\n",
    "#             print(i)\n",
    "            solution[i] = stack[-1][0] +1\n",
    "            break\n",
    "        else:\n",
    "            stack.pop()\n",
    "    stack.append([i,nums_list[i]])\n",
    "#     print(stack,nums_list[i],i)\n",
    "print(*solution)"
   ]
  },
  {
   "cell_type": "code",
   "execution_count": 39,
   "id": "342d3bee",
   "metadata": {},
   "outputs": [
    {
     "data": {
      "text/plain": [
       "[0, 0, 2, 2, 4]"
      ]
     },
     "execution_count": 39,
     "metadata": {},
     "output_type": "execute_result"
    }
   ],
   "source": [
    "solution"
   ]
  },
  {
   "cell_type": "code",
   "execution_count": 18,
   "id": "6e063e34",
   "metadata": {},
   "outputs": [],
   "source": [
    "solution = []\n",
    "number = 0\n",
    "for i in range(1,n):\n",
    "    if i == n:\n",
    "        solution.append(nums[-1])\n",
    "    elif nums[n-i-1] > nums[-1]:\n",
    "        number = nums.pop()\n",
    "        solution.append(len(nums)-1)\n",
    "        # n-1 < nums[-1]\n",
    "        # n-2 < nums[-1]\n",
    "    else:\n",
    "        solution.append(0)"
   ]
  },
  {
   "cell_type": "code",
   "execution_count": 19,
   "id": "cdbab2aa",
   "metadata": {},
   "outputs": [
    {
     "data": {
      "text/plain": [
       "[3, 0, 2, 1]"
      ]
     },
     "execution_count": 19,
     "metadata": {},
     "output_type": "execute_result"
    }
   ],
   "source": [
    "solution"
   ]
  },
  {
   "cell_type": "code",
   "execution_count": null,
   "id": "1f32c4c8",
   "metadata": {},
   "outputs": [],
   "source": [
    "3,2,1"
   ]
  }
 ],
 "metadata": {
  "kernelspec": {
   "display_name": "Python 3 (ipykernel)",
   "language": "python",
   "name": "python3"
  },
  "language_info": {
   "codemirror_mode": {
    "name": "ipython",
    "version": 3
   },
   "file_extension": ".py",
   "mimetype": "text/x-python",
   "name": "python",
   "nbconvert_exporter": "python",
   "pygments_lexer": "ipython3",
   "version": "3.9.12"
  }
 },
 "nbformat": 4,
 "nbformat_minor": 5
}
