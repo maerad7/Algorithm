{
 "cells": [
  {
   "cell_type": "code",
   "execution_count": 32,
   "id": "0bcece13-b373-46eb-8ad1-49a79c156a6a",
   "metadata": {},
   "outputs": [],
   "source": [
    "s = \"3[a]2[bc]\""
   ]
  },
  {
   "cell_type": "code",
   "execution_count": 33,
   "id": "19beaf6d-95d0-4d29-a03f-408a1575829f",
   "metadata": {},
   "outputs": [],
   "source": [
    "\n",
    "def decodeString(s: str) -> str:\n",
    "    alphabet_stack = []\n",
    "    count_stack = []\n",
    "    strings = \"\"\n",
    "    temp_alpahbet_strings = \"\"\n",
    "    for c in s:\n",
    "        if c.isdigit():\n",
    "            count_stack.append(c)\n",
    "        elif c.isalpha():\n",
    "            temp_alpahbet_strings = temp_alpahbet_strings + c\n",
    "        elif c == \"[\":\n",
    "            temp_alpahbet_strings = \"\"\n",
    "        elif c == \"]\":\n",
    "            alphabet_stack.append(temp_alpahbet_strings)\n",
    "            count = count_stack.pop()\n",
    "            print(alphabet_stack)\n",
    "            alphabet = alphabet_stack.pop()\n",
    "            strings = strings + int(count) * alphabet\n",
    "    return strings"
   ]
  },
  {
   "cell_type": "code",
   "execution_count": 34,
   "id": "3688627f-0422-4d53-b9eb-5261829447d1",
   "metadata": {},
   "outputs": [
    {
     "name": "stdout",
     "output_type": "stream",
     "text": [
      "['a']\n",
      "['bc']\n"
     ]
    },
    {
     "data": {
      "text/plain": [
       "'aaabcbc'"
      ]
     },
     "execution_count": 34,
     "metadata": {},
     "output_type": "execute_result"
    }
   ],
   "source": [
    "decodeString(s)"
   ]
  },
  {
   "cell_type": "code",
   "execution_count": 35,
   "id": "41cdfa96-a57b-4dd7-b273-0f29a5c9a338",
   "metadata": {},
   "outputs": [],
   "source": [
    "s = \"3[a2[c]]\""
   ]
  },
  {
   "cell_type": "code",
   "execution_count": 36,
   "id": "eba5f097-299c-4d95-8658-9f842d9a0835",
   "metadata": {},
   "outputs": [
    {
     "name": "stdout",
     "output_type": "stream",
     "text": [
      "['c']\n",
      "['c']\n"
     ]
    },
    {
     "data": {
      "text/plain": [
       "'ccccc'"
      ]
     },
     "execution_count": 36,
     "metadata": {},
     "output_type": "execute_result"
    }
   ],
   "source": [
    "decodeString(s)"
   ]
  },
  {
   "cell_type": "code",
   "execution_count": 67,
   "id": "e418d24e-9b19-4b8d-a02b-5ec67597ca6d",
   "metadata": {},
   "outputs": [],
   "source": [
    "def decodeString(s: str) -> str:\n",
    "    stack = []\n",
    "    num_stack = []\n",
    "    \n",
    "    cur_num = 0\n",
    "    cur_str = \"\"\n",
    "    \n",
    "    for c in s:\n",
    "        if c == \"[\":\n",
    "            stack.append(cur_str)\n",
    "            num_stack.append(cur_num)\n",
    "            cur_str=\"\"\n",
    "            cur_num=0\n",
    "            \n",
    "        elif c == ']':          \n",
    "            prev_str = stack.pop()\n",
    "            num = num_stack.pop()\n",
    "            cur_str = prev_str + num*cur_str\n",
    "          \n",
    "        if c.isdigit():\n",
    "        \n",
    "            cur_num = cur_num*10 + int(c)\n",
    "        elif c.isalpha():\n",
    "            cur_str += c\n",
    "\n",
    "    return cur_str"
   ]
  },
  {
   "cell_type": "code",
   "execution_count": 68,
   "id": "20291600-90f6-4897-9971-07320b5c196b",
   "metadata": {},
   "outputs": [
    {
     "data": {
      "text/plain": [
       "'accaccacc'"
      ]
     },
     "execution_count": 68,
     "metadata": {},
     "output_type": "execute_result"
    }
   ],
   "source": [
    "decodeString(s)"
   ]
  },
  {
   "cell_type": "code",
   "execution_count": null,
   "id": "eed15b98-b0ad-4774-9957-d4aef0ed7b0c",
   "metadata": {},
   "outputs": [],
   "source": []
  }
 ],
 "metadata": {
  "kernelspec": {
   "display_name": "Python 3 (ipykernel)",
   "language": "python",
   "name": "python3"
  },
  "language_info": {
   "codemirror_mode": {
    "name": "ipython",
    "version": 3
   },
   "file_extension": ".py",
   "mimetype": "text/x-python",
   "name": "python",
   "nbconvert_exporter": "python",
   "pygments_lexer": "ipython3",
   "version": "3.10.4"
  }
 },
 "nbformat": 4,
 "nbformat_minor": 5
}
