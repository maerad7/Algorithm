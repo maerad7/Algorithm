{
 "cells": [
  {
   "cell_type": "code",
   "execution_count": 1,
   "id": "ed147599-2499-4cb1-a796-f820a60675d3",
   "metadata": {},
   "outputs": [],
   "source": [
    "# (())())"
   ]
  },
  {
   "cell_type": "code",
   "execution_count": 16,
   "id": "ceb969c0-514a-4346-8567-c1d7e97f6e10",
   "metadata": {},
   "outputs": [
    {
     "name": "stdin",
     "output_type": "stream",
     "text": [
      " 1\n",
      " (())())\n"
     ]
    },
    {
     "name": "stdout",
     "output_type": "stream",
     "text": [
      "No\n"
     ]
    }
   ],
   "source": [
    "def check(string):\n",
    "    cnt = 0\n",
    "    for s in string:\n",
    "        if s == \"(\":\n",
    "            cnt = cnt + 1\n",
    "        else:\n",
    "            cnt = cnt - 1\n",
    "        if cnt < 0 :\n",
    "            return \"No\"\n",
    "    if cnt == 0:\n",
    "        return \"Yes\"\n",
    "    else:\n",
    "        return \"No\"\n",
    "\n",
    "if __name__==\"__main__\":\n",
    "    n = int(input())\n",
    "    for _ in range(n):\n",
    "        string = input()\n",
    "        result = check(string)\n",
    "        print(result)     \n",
    "\n",
    "                "
   ]
  },
  {
   "cell_type": "code",
   "execution_count": null,
   "id": "b7c13251-3969-4426-ae6d-12187628493e",
   "metadata": {},
   "outputs": [],
   "source": []
  }
 ],
 "metadata": {
  "kernelspec": {
   "display_name": "Python 3 (ipykernel)",
   "language": "python",
   "name": "python3"
  },
  "language_info": {
   "codemirror_mode": {
    "name": "ipython",
    "version": 3
   },
   "file_extension": ".py",
   "mimetype": "text/x-python",
   "name": "python",
   "nbconvert_exporter": "python",
   "pygments_lexer": "ipython3",
   "version": "3.9.12"
  }
 },
 "nbformat": 4,
 "nbformat_minor": 5
}
