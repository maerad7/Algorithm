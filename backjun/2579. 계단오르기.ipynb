{
 "cells": [
  {
   "cell_type": "code",
   "execution_count": 26,
   "id": "a7b61154",
   "metadata": {},
   "outputs": [
    {
     "name": "stdout",
     "output_type": "stream",
     "text": [
      "6\n",
      "10\n",
      "20\n",
      "15\n",
      "25\n",
      "10\n",
      "20\n",
      "75\n"
     ]
    }
   ],
   "source": [
    "n = int(input())\n",
    "memo = []\n",
    "dp = []\n",
    "for _ in range(n):\n",
    "    memo.append(int(input()))\n",
    "dp.append(memo[0])\n",
    "dp.append(memo[0]+memo[1])\n",
    "dp.append(max(memo[0]+memo[2],memo[1]+memo[2]))\n",
    "\n",
    "for i in range(3,n):\n",
    "    dp.append(max(dp[i-2]+memo[i],dp[i-3]+memo[i]+memo[i-1]))\n",
    "print(dp[n-1])"
   ]
  },
  {
   "cell_type": "code",
   "execution_count": null,
   "id": "6a895a7e",
   "metadata": {},
   "outputs": [],
   "source": [
    "import sys\n",
    "\n",
    "n = int(sys.stdin.readline())\n",
    "m = [0] * 301\n",
    "\n",
    "for k in range(n):\n",
    "    m[k] = int(sys.stdin.readline())\n",
    "\n",
    "dp = [0] * 301 # 계단\n",
    "dp[0] = m[0] # 첫 번째 계단\n",
    "dp[1] = m[0] + m[1] # 두 번째 계단\n",
    "dp[2] = max(m[1] + m[2], m[0] + m[2]) # 연속으로 세 개의 계단을 밟는 경우와 두 계단을 한번에 오르는 경우를 비교\n",
    "\n",
    "# 반복문을 통해 계단을 오른다.\n",
    "for i in range(3, n + 1):\n",
    "    dp[i] = max(dp[i - 3] + m[i - 1] + m[i], dp[i - 2] + m[i]) # 연속으로 세 개의 계단을 밟는 경우와 두 계단을 한번에 오르는 경우를 비교\n",
    "\n",
    "print(dp[n - 1])"
   ]
  },
  {
   "cell_type": "code",
   "execution_count": null,
   "id": "62395b4c",
   "metadata": {},
   "outputs": [],
   "source": []
  }
 ],
 "metadata": {
  "kernelspec": {
   "display_name": "Python 3 (ipykernel)",
   "language": "python",
   "name": "python3"
  },
  "language_info": {
   "codemirror_mode": {
    "name": "ipython",
    "version": 3
   },
   "file_extension": ".py",
   "mimetype": "text/x-python",
   "name": "python",
   "nbconvert_exporter": "python",
   "pygments_lexer": "ipython3",
   "version": "3.9.12"
  }
 },
 "nbformat": 4,
 "nbformat_minor": 5
}
