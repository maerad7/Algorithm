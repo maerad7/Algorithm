{
 "cells": [
  {
   "cell_type": "markdown",
   "id": "6fa2beb2-87be-417c-b8b7-c8313c422246",
   "metadata": {},
   "source": [
    "요세푸스 문제는 다음과 같다.\n",
    "\n",
    "1번부터 N번까지 N명의 사람이 원을 이루면서 앉아있고, 양의 정수 K(≤ N)가 주어진다. 이제 순서대로 K번째 사람을 제거한다. 한 사람이 제거되면 남은 사람들로 이루어진 원을 따라 이 과정을 계속해 나간다. 이 과정은 N명의 사람이 모두 제거될 때까지 계속된다. 원에서 사람들이 제거되는 순서를 (N, K)-요세푸스 순열이라고 한다. 예를 들어 (7, 3)-요세푸스 순열은 <3, 6, 2, 7, 5, 1, 4>이다.\n",
    "\n",
    "N과 K가 주어지면 (N, K)-요세푸스 순열을 구하는 프로그램을 작성하시오."
   ]
  },
  {
   "cell_type": "markdown",
   "id": "0967e129-aa94-4ed6-b6b4-cf97fc13bf5d",
   "metadata": {},
   "source": [
    "- 입력\n",
    "\n",
    "첫째 줄에 N과 K가 빈 칸을 사이에 두고 순서대로 주어진다. (1 ≤ K ≤ N ≤ 5,000)"
   ]
  },
  {
   "cell_type": "markdown",
   "id": "c97ddbfc-bdf7-4a76-8f30-5bfb00f10dd8",
   "metadata": {},
   "source": [
    "# Method\n",
    "\n",
    "1. q생성\n",
    "2. q \n"
   ]
  },
  {
   "cell_type": "code",
   "execution_count": 45,
   "id": "076d7d84-0eca-4280-be5f-243ca7e6efa0",
   "metadata": {},
   "outputs": [
    {
     "name": "stdin",
     "output_type": "stream",
     "text": [
      " 7 3\n"
     ]
    },
    {
     "name": "stdout",
     "output_type": "stream",
     "text": [
      "<3 ,6 ,2 ,7 ,5 ,1 ,4>\n"
     ]
    }
   ],
   "source": [
    "import collections\n",
    "\n",
    "q = collections.deque()\n",
    "\n",
    "all_nums, del_seq = map(int,input().split())\n",
    "for i in range(1,all_nums+1):\n",
    "    q.append(i)\n",
    "temp_list = []\n",
    "while(len(q) != 0):\n",
    "    for _ in range(0,del_seq-1):\n",
    "        # print(len(q),len(temp_list))\n",
    "        temp = q.popleft() \n",
    "        q.append(temp)\n",
    "    a = q.popleft()\n",
    "    temp_list.append(a)\n",
    "\n",
    "print(\"<\", end=\"\")\n",
    "for i,value in enumerate(temp_list):\n",
    "    if i != len(temp_list) -1:\n",
    "        print(value, \",\", end=\"\")\n",
    "    else:\n",
    "        print(f\"{value}>\")"
   ]
  },
  {
   "cell_type": "code",
   "execution_count": 46,
   "id": "2ed97a9b-64bc-4ba9-a5ae-ba1ed6ea5411",
   "metadata": {},
   "outputs": [
    {
     "name": "stdin",
     "output_type": "stream",
     "text": [
      " 7 3\n"
     ]
    },
    {
     "name": "stdout",
     "output_type": "stream",
     "text": [
      "<3, 6, 2, 7, 5, 1, 4>\n"
     ]
    }
   ],
   "source": [
    "from collections import deque\n",
    "\n",
    "n, k = map(int, input().split())\n",
    "\n",
    "# 1~n번 사람\n",
    "people = deque()\n",
    "for i in range(1, n+1): people.append(i)\n",
    "result = []\n",
    "\n",
    "while people:\n",
    "  for _ in range(k-1):\n",
    "    people.append(people.popleft())\n",
    "\n",
    "  result.append(people.popleft())\n",
    "\n",
    "print(str(result).replace('[', '<').replace(']', '>'))"
   ]
  },
  {
   "cell_type": "code",
   "execution_count": null,
   "id": "545b0ef0-3178-42d3-bd4e-85754729adc0",
   "metadata": {},
   "outputs": [],
   "source": []
  }
 ],
 "metadata": {
  "kernelspec": {
   "display_name": "Python 3 (ipykernel)",
   "language": "python",
   "name": "python3"
  },
  "language_info": {
   "codemirror_mode": {
    "name": "ipython",
    "version": 3
   },
   "file_extension": ".py",
   "mimetype": "text/x-python",
   "name": "python",
   "nbconvert_exporter": "python",
   "pygments_lexer": "ipython3",
   "version": "3.9.12"
  }
 },
 "nbformat": 4,
 "nbformat_minor": 5
}
