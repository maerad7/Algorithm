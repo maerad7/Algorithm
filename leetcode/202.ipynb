{
 "cells": [
  {
   "cell_type": "code",
   "execution_count": 43,
   "id": "96857ebc-73d1-4385-8af3-f9c63a06b4e0",
   "metadata": {},
   "outputs": [],
   "source": [
    "def isHappy(n):\n",
    "        nums = 0\n",
    "        while True:\n",
    "            for i in str(n):\n",
    "                nums += int(i)*int(i)\n",
    "\n",
    "            if nums == 1 or nums == 7:\n",
    "                return True\n",
    "            if nums < 10:\n",
    "                return False\n",
    "\n",
    "            n = nums\n",
    "            nums = 0\n",
    "            "
   ]
  },
  {
   "cell_type": "code",
   "execution_count": 44,
   "id": "c45f4a24-3342-476e-97ac-9c1a7e709eee",
   "metadata": {
    "tags": []
   },
   "outputs": [
    {
     "name": "stdout",
     "output_type": "stream",
     "text": [
      "49\n",
      "81\n"
     ]
    },
    {
     "data": {
      "text/plain": [
       "False"
      ]
     },
     "execution_count": 44,
     "metadata": {},
     "output_type": "execute_result"
    }
   ],
   "source": [
    "isHappy(7)"
   ]
  },
  {
   "cell_type": "code",
   "execution_count": null,
   "id": "ffa21824-356c-4f7a-b07d-204f01e15f5e",
   "metadata": {},
   "outputs": [],
   "source": []
  }
 ],
 "metadata": {
  "kernelspec": {
   "display_name": "Python 3 (ipykernel)",
   "language": "python",
   "name": "python3"
  },
  "language_info": {
   "codemirror_mode": {
    "name": "ipython",
    "version": 3
   },
   "file_extension": ".py",
   "mimetype": "text/x-python",
   "name": "python",
   "nbconvert_exporter": "python",
   "pygments_lexer": "ipython3",
   "version": "3.11.3"
  }
 },
 "nbformat": 4,
 "nbformat_minor": 5
}
