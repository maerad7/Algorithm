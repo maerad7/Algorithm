{
 "cells": [
  {
   "cell_type": "code",
   "execution_count": 4,
   "id": "5269c4aa",
   "metadata": {
    "scrolled": true
   },
   "outputs": [
    {
     "name": "stdout",
     "output_type": "stream",
     "text": [
      "2 2\n",
      "1 -1\n",
      "-1 1\n",
      "0\n"
     ]
    }
   ],
   "source": [
    "from collections import deque\n",
    "m,n = map(int,input().split())\n",
    "tomato = []\n",
    "for _ in range(n):\n",
    "    tomato.append(list(map(int,input().split())))\n",
    "queue = deque()\n",
    "for i in range(n):\n",
    "    for j in range(m):\n",
    "        if tomato[i][j] == 1:\n",
    "            queue.append((i,j))\n",
    "\n",
    "\n",
    "dx = [-1,0,1,0]\n",
    "dy = [0,-1,0,1]\n",
    "while queue:\n",
    "    x,y = queue.popleft()\n",
    "    for i in range(4):\n",
    "        nx = x+dx[i]\n",
    "        ny = y+dy[i]\n",
    "        if 0<=nx<n and 0<=ny<m:\n",
    "            if tomato[nx][ny] == -1:\n",
    "                continue\n",
    "            if tomato[nx][ny] == 0:\n",
    "                queue.append((nx,ny))\n",
    "                tomato[nx][ny] = tomato[x][y]+1\n",
    "                \n",
    "flag = False\n",
    "for i in range(n):\n",
    "    for j in range(m):\n",
    "        if tomato[i][j] == 0:\n",
    "            flag = True\n",
    "            break\n",
    "if flag:\n",
    "    print(-1)\n",
    "else:\n",
    "    print(max(map(max,tomato))-1)\n"
   ]
  },
  {
   "cell_type": "code",
   "execution_count": null,
   "id": "c4f2c36b",
   "metadata": {},
   "outputs": [],
   "source": []
  }
 ],
 "metadata": {
  "kernelspec": {
   "display_name": "Python 3 (ipykernel)",
   "language": "python",
   "name": "python3"
  },
  "language_info": {
   "codemirror_mode": {
    "name": "ipython",
    "version": 3
   },
   "file_extension": ".py",
   "mimetype": "text/x-python",
   "name": "python",
   "nbconvert_exporter": "python",
   "pygments_lexer": "ipython3",
   "version": "3.9.12"
  }
 },
 "nbformat": 4,
 "nbformat_minor": 5
}
