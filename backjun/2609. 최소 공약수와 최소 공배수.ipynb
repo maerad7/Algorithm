{
 "cells": [
  {
   "cell_type": "markdown",
   "id": "a94efc29-6a8b-4043-8ba9-2053dc3d8332",
   "metadata": {},
   "source": [
    "# 문제\n",
    "\n",
    "두 개의 자연수를 입력받아 최대 공약수와 최소 공배수를 출력하는 프로그램을 작성하시오."
   ]
  },
  {
   "cell_type": "markdown",
   "id": "91c2b443-6791-43cf-a0ca-22b7bed3b4c6",
   "metadata": {},
   "source": [
    "- 입력\n",
    "\n",
    "첫째 줄에는 두 개의 자연수가 주어진다. 이 둘은 10,000이하의 자연수이며 사이에 한 칸의 공백이 주어진다.\n",
    "\n",
    "- 출력\n",
    "\n",
    "첫째 줄에는 입력으로 주어진 두 수의 최대공약수를, 둘째 줄에는 입력으로 주어진 두 수의 최소 공배수를 출력한다."
   ]
  },
  {
   "cell_type": "code",
   "execution_count": 3,
   "id": "3d0f9533-cbe0-4d75-aeed-3e3fc8447c02",
   "metadata": {},
   "outputs": [],
   "source": [
    "n = list(map(int, input().split()))\n",
    "\n",
    "def gcd(a, b):\n",
    "    if b==0:\n",
    "        return a\n",
    "    else:\n",
    "        r = a % b\n",
    "        return gcd(b, r)\n",
    "\n",
    "def lcm(a,b):\n",
    "    return a*b/gcd(a,b)\n",
    "\n",
    "print(gcd(n[0],n[1]))\n",
    "print(int(lcm(n[0],n[1])))"
   ]
  },
  {
   "cell_type": "code",
   "execution_count": null,
   "id": "1175d20f-8042-407e-bed0-38efc628b2f6",
   "metadata": {},
   "outputs": [],
   "source": []
  }
 ],
 "metadata": {
  "kernelspec": {
   "display_name": "Python 3 (ipykernel)",
   "language": "python",
   "name": "python3"
  },
  "language_info": {
   "codemirror_mode": {
    "name": "ipython",
    "version": 3
   },
   "file_extension": ".py",
   "mimetype": "text/x-python",
   "name": "python",
   "nbconvert_exporter": "python",
   "pygments_lexer": "ipython3",
   "version": "3.9.12"
  }
 },
 "nbformat": 4,
 "nbformat_minor": 5
}
