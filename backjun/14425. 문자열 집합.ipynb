{
 "cells": [
  {
   "cell_type": "code",
   "execution_count": 5,
   "id": "76faf0dd",
   "metadata": {},
   "outputs": [
    {
     "name": "stdout",
     "output_type": "stream",
     "text": [
      "5 11\n",
      "aaaa\n",
      "bbbb\n",
      "ccccc\n",
      "dddddd\n",
      "eeeee\n",
      "eeeee\n",
      "eeeee\n",
      "eeeee\n",
      "eeeee\n",
      "eeeee\n",
      "eeeee\n",
      "eeeee\n",
      "eeeee\n",
      "eeeee\n",
      "dddddd\n",
      "dddddd\n",
      "2\n"
     ]
    }
   ],
   "source": [
    "n,m= map(int,input().split())\n",
    "\n",
    "string = []\n",
    "s_targets = []\n",
    "# 비교할 input\n",
    "for i in range(0,n):\n",
    "    s_n=input()\n",
    "    string.append(s_n)\n",
    "# 비교대상\n",
    "for i in range(0,m):\n",
    "    s_target = input()\n",
    "    s_targets.append(s_target)\n",
    "    \n",
    "\n",
    "set_string = set(string)\n",
    "set_s_targets = set(s_targets)\n",
    "\n",
    "count = 0\n",
    "for s_t in set_s_targets:\n",
    "    for s_i in set_string: \n",
    "        if s_t == s_i:\n",
    "            count= count+1\n",
    "\n",
    "print(count)\n",
    "        "
   ]
  },
  {
   "cell_type": "code",
   "execution_count": null,
   "id": "9a326244",
   "metadata": {},
   "outputs": [],
   "source": []
  },
  {
   "cell_type": "code",
   "execution_count": null,
   "id": "794d3ff9",
   "metadata": {},
   "outputs": [],
   "source": []
  },
  {
   "cell_type": "code",
   "execution_count": null,
   "id": "cb2cffd5",
   "metadata": {},
   "outputs": [],
   "source": []
  }
 ],
 "metadata": {
  "kernelspec": {
   "display_name": "Python 3 (ipykernel)",
   "language": "python",
   "name": "python3"
  },
  "language_info": {
   "codemirror_mode": {
    "name": "ipython",
    "version": 3
   },
   "file_extension": ".py",
   "mimetype": "text/x-python",
   "name": "python",
   "nbconvert_exporter": "python",
   "pygments_lexer": "ipython3",
   "version": "3.9.12"
  }
 },
 "nbformat": 4,
 "nbformat_minor": 5
}
