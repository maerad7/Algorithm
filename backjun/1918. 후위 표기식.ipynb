{
 "cells": [
  {
   "cell_type": "code",
   "execution_count": 20,
   "id": "5b411552",
   "metadata": {},
   "outputs": [
    {
     "name": "stdout",
     "output_type": "stream",
     "text": [
      "A*(B+C)\n"
     ]
    }
   ],
   "source": [
    "strings = input()\n",
    "strings = list(strings)"
   ]
  },
  {
   "cell_type": "code",
   "execution_count": null,
   "id": "315d3101",
   "metadata": {},
   "outputs": [],
   "source": [
    "for s in strings:\n",
    "    "
   ]
  }
 ],
 "metadata": {
  "kernelspec": {
   "display_name": "Python 3 (ipykernel)",
   "language": "python",
   "name": "python3"
  },
  "language_info": {
   "codemirror_mode": {
    "name": "ipython",
    "version": 3
   },
   "file_extension": ".py",
   "mimetype": "text/x-python",
   "name": "python",
   "nbconvert_exporter": "python",
   "pygments_lexer": "ipython3",
   "version": "3.9.12"
  }
 },
 "nbformat": 4,
 "nbformat_minor": 5
}
