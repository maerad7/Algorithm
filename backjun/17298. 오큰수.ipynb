{
 "cells": [
  {
   "cell_type": "markdown",
   "id": "5b859437-8776-47c1-a7c1-6ef4f34abcc7",
   "metadata": {},
   "source": [
    "# 문제\n",
    "\n",
    "크기가 N인 수열 A = A1, A2, ..., AN이 있다. 수열의 각 원소 Ai에 대해서 오큰수 NGE(i)를 구하려고 한다. Ai의 오큰수는 오른쪽에 있으면서 Ai보다 큰 수 중에서 가장 왼쪽에 있는 수를 의미한다. 그러한 수가 없는 경우에 오큰수는 -1이다.\n",
    "\n",
    "예를 들어, A = [3, 5, 2, 7]인 경우 NGE(1) = 5, NGE(2) = 7, NGE(3) = 7, NGE(4) = -1이다. A = [9, 5, 4, 8]인 경우에는 NGE(1) = -1, NGE(2) = 8, NGE(3) = 8, NGE(4) = -1이다."
   ]
  },
  {
   "cell_type": "markdown",
   "id": "bf353ed2-cd30-4cbc-a86b-14551ac6e79e",
   "metadata": {},
   "source": [
    "- 입력\n",
    "\n",
    "첫째 줄에 수열 A의 크기 N (1 ≤ N ≤ 1,000,000)이 주어진다. 둘째 줄에 수열 A의 원소 A1, A2, ..., AN (1 ≤ Ai ≤ 1,000,000)이 주어진다."
   ]
  },
  {
   "cell_type": "markdown",
   "id": "887a9dab-933d-40e1-9ef6-033f277d333e",
   "metadata": {},
   "source": [
    "- 출력\n",
    "\n",
    "총 N개의 수 NGE(1), NGE(2), ..., NGE(N)을 공백으로 구분해 출력한다."
   ]
  },
  {
   "cell_type": "markdown",
   "id": "fbf15bb8-8649-49d3-9ea4-e9e44d62edc8",
   "metadata": {},
   "source": [
    "# method\n",
    "\n",
    "1. 숫자를 arr리스트로 저장\n",
    "2. 스택의 첫번째에 0\n",
    "3. -1인 값을 숫자의 개수만 큼 -1로 선언\n",
    "4. stack에 인덱스를 저장함\n",
    "5. 입력받은 수들 배열 arr을 탐색\n",
    "6. stack이 비어있지 않고, arr[스택 맨위]가 arr[i]보다 작으면 반복\n",
    "7. answer의 stack.pop()한 인덱스 자리에 arr[i]를 넣는다.\n",
    "8. stack에 i를 넣는다."
   ]
  },
  {
   "cell_type": "code",
   "execution_count": 10,
   "id": "c9313f0f-c18a-4b4d-bd35-5249ba8fecbc",
   "metadata": {},
   "outputs": [
    {
     "name": "stdin",
     "output_type": "stream",
     "text": [
      " 4\n",
      " 3 5 2 7\n"
     ]
    },
    {
     "name": "stdout",
     "output_type": "stream",
     "text": [
      "5 7 7 -1\n"
     ]
    }
   ],
   "source": [
    "n = int(input())\n",
    "arr = list(map(int, input().split()))\n",
    "stack = []\n",
    "answer = [-1 for i in range(n)]\n",
    "\n",
    "for i in range(len(arr)):\n",
    "    while stack and arr[stack[-1]] < arr[i]:\n",
    "        temp = stack.pop()\n",
    "        answer[temp] = arr[i]\n",
    "    stack.append(i)\n",
    "print(*answer)"
   ]
  },
  {
   "cell_type": "code",
   "execution_count": null,
   "id": "1ec79b36-441d-4508-bad4-3d92b25a2220",
   "metadata": {},
   "outputs": [],
   "source": []
  }
 ],
 "metadata": {
  "kernelspec": {
   "display_name": "Python 3 (ipykernel)",
   "language": "python",
   "name": "python3"
  },
  "language_info": {
   "codemirror_mode": {
    "name": "ipython",
    "version": 3
   },
   "file_extension": ".py",
   "mimetype": "text/x-python",
   "name": "python",
   "nbconvert_exporter": "python",
   "pygments_lexer": "ipython3",
   "version": "3.9.12"
  }
 },
 "nbformat": 4,
 "nbformat_minor": 5
}
