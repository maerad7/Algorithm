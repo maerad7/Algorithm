{
 "cells": [
  {
   "cell_type": "code",
   "execution_count": 11,
   "id": "6799f24a",
   "metadata": {},
   "outputs": [
    {
     "name": "stdout",
     "output_type": "stream",
     "text": [
      "()(((()())(())()))(())\n"
     ]
    }
   ],
   "source": [
    "bar = list(input())"
   ]
  },
  {
   "cell_type": "code",
   "execution_count": 15,
   "id": "b9be1f68",
   "metadata": {},
   "outputs": [
    {
     "name": "stdout",
     "output_type": "stream",
     "text": [
      "17\n"
     ]
    }
   ],
   "source": [
    "stack = []\n",
    "cnt = 0\n",
    "nums = 0\n",
    "for c in bar:\n",
    "    if c == \"(\":\n",
    "        stack.append(c)\n",
    "        cnt = 0\n",
    "    elif c ==\")\":\n",
    "        stack.pop()\n",
    "        if cnt == 0:\n",
    "            if len(stack) > 0:\n",
    "                nums += len(stack)\n",
    "                \n",
    "        else:\n",
    "            nums +=1\n",
    "        cnt = 1\n",
    "print(nums)"
   ]
  },
  {
   "cell_type": "code",
   "execution_count": 5,
   "id": "a7ec6ade",
   "metadata": {},
   "outputs": [
    {
     "name": "stdout",
     "output_type": "stream",
     "text": [
      "()(((()())(())()))(())\n",
      "17\n"
     ]
    }
   ],
   "source": [
    "inp = []\n",
    "stack = []\n",
    "cnt = 0\n",
    "ans = 0\n",
    "\n",
    "inp = list(input())\n",
    "\n",
    "for i in inp:\n",
    "    if i == '(':\n",
    "        stack.append(i)\n",
    "        cnt = 0\n",
    "    elif i == ')':\n",
    "        stack.pop()\n",
    "        if cnt == 0:\n",
    "            if len(stack) > 0:\n",
    "                ans += len(stack) \n",
    "        else:\n",
    "            ans+=1   \n",
    "        cnt = 1\n",
    "        \n",
    "\n",
    "print(ans)"
   ]
  },
  {
   "cell_type": "code",
   "execution_count": null,
   "id": "1d24b550",
   "metadata": {},
   "outputs": [],
   "source": []
  }
 ],
 "metadata": {
  "kernelspec": {
   "display_name": "Python 3 (ipykernel)",
   "language": "python",
   "name": "python3"
  },
  "language_info": {
   "codemirror_mode": {
    "name": "ipython",
    "version": 3
   },
   "file_extension": ".py",
   "mimetype": "text/x-python",
   "name": "python",
   "nbconvert_exporter": "python",
   "pygments_lexer": "ipython3",
   "version": "3.9.12"
  }
 },
 "nbformat": 4,
 "nbformat_minor": 5
}
