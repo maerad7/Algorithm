{
 "cells": [
  {
   "cell_type": "code",
   "execution_count": 9,
   "id": "dc17e6e1",
   "metadata": {},
   "outputs": [],
   "source": [
    "s = \"abbaca\""
   ]
  },
  {
   "cell_type": "code",
   "execution_count": 10,
   "id": "b7a95212",
   "metadata": {},
   "outputs": [
    {
     "name": "stdout",
     "output_type": "stream",
     "text": [
      "ca\n"
     ]
    }
   ],
   "source": [
    "stack = []\n",
    "result = \"\"\n",
    "s = list(s)\n",
    "for i in range(0,len(s)):\n",
    "    if stack == []:\n",
    "        stack.append(s[i])\n",
    "    elif stack[-1] != s[i]:\n",
    "        stack.append(s[i])\n",
    "    else:\n",
    "        stack.pop()\n",
    "    \n",
    "print(\"\".join(stack))"
   ]
  },
  {
   "cell_type": "code",
   "execution_count": null,
   "id": "1029aaf7",
   "metadata": {},
   "outputs": [],
   "source": []
  }
 ],
 "metadata": {
  "kernelspec": {
   "display_name": "Python 3 (ipykernel)",
   "language": "python",
   "name": "python3"
  },
  "language_info": {
   "codemirror_mode": {
    "name": "ipython",
    "version": 3
   },
   "file_extension": ".py",
   "mimetype": "text/x-python",
   "name": "python",
   "nbconvert_exporter": "python",
   "pygments_lexer": "ipython3",
   "version": "3.10.4"
  }
 },
 "nbformat": 4,
 "nbformat_minor": 5
}
