{
 "cells": [
  {
   "cell_type": "code",
   "execution_count": 31,
   "id": "2b089418",
   "metadata": {},
   "outputs": [],
   "source": [
    "\n",
    "\n",
    "from collections import deque\n",
    "dx = [1,-1,0,0]\n",
    "dy = [0,0,1,-1]\n",
    "def bfs(graph,a,b):\n",
    "#     global count\n",
    "    q = deque()\n",
    "    q.append((a,b))\n",
    "    graph[a][b] = 0\n",
    "    while q:\n",
    "        x,y = q.popleft()\n",
    "        \n",
    "        for i in range(4):\n",
    "            nx = dx[i] + x\n",
    "            ny = dy[i] + y\n",
    "\n",
    "            if nx < 0 or ny <0 or nx >= n or ny>=m:\n",
    "                continue\n",
    "\n",
    "            if graph[nx][ny] == 1:\n",
    "#                 count = count + 1\n",
    "                graph[nx][ny] = 0\n",
    "                q.append((nx,ny))\n",
    "\n",
    "    return True\n",
    "    \n",
    "T = int(input())\n",
    "for _ in range(T):\n",
    "    total = 0\n",
    "\n",
    "    n,m,c = map(int,input().split())\n",
    "\n",
    "    graph = [[0]*m for _ in range(n)]\n",
    "    for i in range(c):\n",
    "        x,y = map(int,input().split())\n",
    "        graph[x][y] = 1\n",
    "    for i in range(n):\n",
    "        for j in range(m):\n",
    "            if graph[i][j] == 1:\n",
    "                bfs(graph,i,j)\n",
    "                total = total + 1\n",
    "    print(total)\n",
    "\n"
   ]
  }
 ],
 "metadata": {
  "kernelspec": {
   "display_name": "Python 3 (ipykernel)",
   "language": "python",
   "name": "python3"
  },
  "language_info": {
   "codemirror_mode": {
    "name": "ipython",
    "version": 3
   },
   "file_extension": ".py",
   "mimetype": "text/x-python",
   "name": "python",
   "nbconvert_exporter": "python",
   "pygments_lexer": "ipython3",
   "version": "3.9.12"
  }
 },
 "nbformat": 4,
 "nbformat_minor": 5
}
