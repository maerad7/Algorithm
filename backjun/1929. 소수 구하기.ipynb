{
 "cells": [
  {
   "cell_type": "markdown",
   "id": "4c40ca88-9997-44be-aac6-6c69fd13a609",
   "metadata": {},
   "source": [
    "# 문제\n",
    "\n",
    "M이상 N이하의 소수를 모두 출력하는 프로그램을 작성하시오.\n",
    "\n"
   ]
  },
  {
   "cell_type": "markdown",
   "id": "c1e34ac1-ccb9-40b3-99b6-225d4398acdb",
   "metadata": {},
   "source": [
    "- 입력\n",
    "\n",
    "첫째 줄에 자연수 M과 N이 빈 칸을 사이에 두고 주어진다. (1 ≤ M ≤ N ≤ 1,000,000) M이상 N이하의 소수가 하나 이상 있는 입력만 주어진다.\n",
    "\n",
    "- 출력\n",
    "\n",
    "한 줄에 하나씩, 증가하는 순서대로 소수를 출력한다.\n"
   ]
  },
  {
   "cell_type": "code",
   "execution_count": 16,
   "id": "63081dac-1c1e-4340-b963-72173417c33c",
   "metadata": {},
   "outputs": [
    {
     "name": "stdin",
     "output_type": "stream",
     "text": [
      " 3 16\n"
     ]
    },
    {
     "name": "stdout",
     "output_type": "stream",
     "text": [
      "3\n",
      "5\n",
      "7\n",
      "11\n",
      "13\n"
     ]
    }
   ],
   "source": [
    "import math\n",
    "\n",
    "m,n = map(int,input().split())\n",
    "\n",
    "check_numbers = [True for i in range(n + 1)]\n",
    "\n",
    "count = 0\n",
    "for i in range(2,int(math.sqrt(n))+1):\n",
    "    if check_numbers[i] == True:\n",
    "        j = 2\n",
    "        while i*j <= n:\n",
    "            check_numbers[i*j] = False\n",
    "            j+=1\n",
    "            \n",
    "for i in range(m,n):\n",
    "    if check_numbers[i] == True:\n",
    "        if i != 1:\n",
    "            print(i)\n"
   ]
  },
  {
   "cell_type": "code",
   "execution_count": null,
   "id": "fdcb4b13-ef63-4709-9f82-c7ea2e88ca11",
   "metadata": {},
   "outputs": [],
   "source": []
  }
 ],
 "metadata": {
  "kernelspec": {
   "display_name": "Python 3 (ipykernel)",
   "language": "python",
   "name": "python3"
  },
  "language_info": {
   "codemirror_mode": {
    "name": "ipython",
    "version": 3
   },
   "file_extension": ".py",
   "mimetype": "text/x-python",
   "name": "python",
   "nbconvert_exporter": "python",
   "pygments_lexer": "ipython3",
   "version": "3.9.12"
  }
 },
 "nbformat": 4,
 "nbformat_minor": 5
}
