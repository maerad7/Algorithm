{
 "cells": [
  {
   "cell_type": "code",
   "execution_count": 4,
   "id": "9a1ccee1",
   "metadata": {},
   "outputs": [
    {
     "name": "stdout",
     "output_type": "stream",
     "text": [
      "6\n",
      "10 20 10 30 40 50\n",
      "5\n"
     ]
    }
   ],
   "source": [
    "n = int(input())\n",
    "nums = list(map(int,input().split()))\n",
    "dp = [0 for i in range(n)]\n",
    "\n",
    "for i in range(n):\n",
    "    for j in range(i):\n",
    "        if nums[i] > nums[j] and dp[i] < dp[j]:\n",
    "            dp[i] = dp[j]\n",
    "    dp[i] += 1\n",
    "print(max(dp))"
   ]
  },
  {
   "cell_type": "code",
   "execution_count": null,
   "id": "d6a1378f",
   "metadata": {},
   "outputs": [],
   "source": []
  }
 ],
 "metadata": {
  "kernelspec": {
   "display_name": "Python 3 (ipykernel)",
   "language": "python",
   "name": "python3"
  },
  "language_info": {
   "codemirror_mode": {
    "name": "ipython",
    "version": 3
   },
   "file_extension": ".py",
   "mimetype": "text/x-python",
   "name": "python",
   "nbconvert_exporter": "python",
   "pygments_lexer": "ipython3",
   "version": "3.9.12"
  }
 },
 "nbformat": 4,
 "nbformat_minor": 5
}
