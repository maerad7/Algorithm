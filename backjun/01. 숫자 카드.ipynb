{
 "cells": [
  {
   "cell_type": "code",
   "execution_count": 54,
   "id": "9512ad55",
   "metadata": {},
   "outputs": [
    {
     "name": "stdout",
     "output_type": "stream",
     "text": [
      "5\n",
      "6 3 2 10 -10\n",
      "8\n",
      "10 9 -5 2 3 4 5 -10\n"
     ]
    }
   ],
   "source": [
    "n_n = int(input())\n",
    "n = list(map(int,input().split(\" \")))\n",
    "m_n = int(input())\n",
    "m = list(map(int,input().split(\" \")))\n",
    "\n",
    "left = 0\n",
    "right = len(n)-1\n",
    "result = []\n",
    "index = 0\n",
    "value = None\n",
    "n.sort()\n",
    "def find(n,m,left,right):\n",
    "    while left<=right:\n",
    "        mid = (left + right) // 2\n",
    "        if n[mid] == m:\n",
    "            return True\n",
    "        elif m > n[mid]:\n",
    "            left = mid + 1\n",
    "        elif m < n[mid]:\n",
    "            right = mid - 1\n",
    "    return False\n",
    "\n",
    "# n = card_number\n",
    "# m = target\n",
    "for i,j in enumerate(m):\n",
    "    if find(n,m[i],left,right):\n",
    "        result.append(1)\n",
    "    else:\n",
    "        result.append(0)\n",
    "\n",
    "for n in result:\n",
    "    print(n, end=\" \")"
   ]
  },
  {
   "cell_type": "code",
   "execution_count": 55,
   "id": "7665a4ff",
   "metadata": {},
   "outputs": [
    {
     "data": {
      "text/plain": [
       "[1, 0, 0, 1, 1, 0, 0, 1]"
      ]
     },
     "execution_count": 55,
     "metadata": {},
     "output_type": "execute_result"
    }
   ],
   "source": [
    "result"
   ]
  },
  {
   "cell_type": "code",
   "execution_count": 56,
   "id": "f34f62ec",
   "metadata": {},
   "outputs": [
    {
     "name": "stdout",
     "output_type": "stream",
     "text": [
      "1 0 0 1 1 0 0 1 "
     ]
    }
   ],
   "source": [
    "for n in result:\n",
    "    print(n, end=\" \")"
   ]
  },
  {
   "cell_type": "code",
   "execution_count": null,
   "id": "adf07e27",
   "metadata": {},
   "outputs": [],
   "source": []
  }
 ],
 "metadata": {
  "kernelspec": {
   "display_name": "Python 3 (ipykernel)",
   "language": "python",
   "name": "python3"
  },
  "language_info": {
   "codemirror_mode": {
    "name": "ipython",
    "version": 3
   },
   "file_extension": ".py",
   "mimetype": "text/x-python",
   "name": "python",
   "nbconvert_exporter": "python",
   "pygments_lexer": "ipython3",
   "version": "3.9.12"
  }
 },
 "nbformat": 4,
 "nbformat_minor": 5
}
