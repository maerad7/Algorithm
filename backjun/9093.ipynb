{
 "cells": [
  {
   "cell_type": "code",
   "execution_count": 23,
   "id": "9784d4fb-f5fa-4877-86f1-16d2e19fdbfc",
   "metadata": {},
   "outputs": [
    {
     "name": "stdin",
     "output_type": "stream",
     "text": [
      " 1\n",
      " I am happy today\n"
     ]
    },
    {
     "name": "stdout",
     "output_type": "stream",
     "text": [
      "I ma yppah yadot "
     ]
    }
   ],
   "source": [
    "n = int(input())\n",
    "for _ in range(n):\n",
    "    in_data = input()\n",
    "    stack = []\n",
    "    in_data += \"\\n\"\n",
    "    for data in in_data:\n",
    "        if (data == \" \") or (data == \"\\n\"):\n",
    "                while(stack):\n",
    "                    print(stack.pop(), end=\"\")\n",
    "                print(\"\",end=\" \")\n",
    "        else:\n",
    "            stack.append(data)\n",
    "    "
   ]
  },
  {
   "cell_type": "code",
   "execution_count": null,
   "id": "8a399538-d67a-4158-ab72-38b77dac6d0d",
   "metadata": {},
   "outputs": [],
   "source": [
    "# /I am happy today"
   ]
  }
 ],
 "metadata": {
  "kernelspec": {
   "display_name": "Python 3 (ipykernel)",
   "language": "python",
   "name": "python3"
  },
  "language_info": {
   "codemirror_mode": {
    "name": "ipython",
    "version": 3
   },
   "file_extension": ".py",
   "mimetype": "text/x-python",
   "name": "python",
   "nbconvert_exporter": "python",
   "pygments_lexer": "ipython3",
   "version": "3.11.3"
  }
 },
 "nbformat": 4,
 "nbformat_minor": 5
}
