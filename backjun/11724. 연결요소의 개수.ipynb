{
 "cells": [
  {
   "cell_type": "code",
   "execution_count": 11,
   "id": "9ce7d13e",
   "metadata": {
    "scrolled": true
   },
   "outputs": [
    {
     "name": "stdout",
     "output_type": "stream",
     "text": [
      "1 2\n",
      "2 5\n",
      "5 1\n",
      "3 4\n",
      "4 6\n"
     ]
    }
   ],
   "source": [
    "n, m = map(int,input().split())\n",
    "\n",
    "graph = [[] for _ in range(n+1)]\n",
    "for _ in range(m):\n",
    "    a,b = map(int,input().split())\n",
    "    graph[a].append(b)\n",
    "    graph[b].append(a)\n",
    "\n",
    "visited = [False]*(n+1)\n",
    "\n",
    "from collections import deque\n",
    "def bfs(graph,start,visited):\n",
    "    q = deque()\n",
    "    q.append(start)\n",
    "    visited[start] = True\n",
    "    \n",
    "    while q:\n",
    "        v = q.popleft()\n",
    "        for i in graph[v]:\n",
    "            if visited[i] == False: \n",
    "                q.append(i)\n",
    "                visited[i] = True\n",
    "\n",
    "\n",
    "cnt = 0\n",
    "for i in range(1,n+1):\n",
    "    if not visited[i]:\n",
    "        bfs(graph, i, visited)\n",
    "        cnt += 1\n",
    "        \n",
    "print(cnt)"
   ]
  },
  {
   "cell_type": "code",
   "execution_count": null,
   "id": "c0d8a316",
   "metadata": {},
   "outputs": [],
   "source": []
  }
 ],
 "metadata": {
  "kernelspec": {
   "display_name": "Python 3 (ipykernel)",
   "language": "python",
   "name": "python3"
  },
  "language_info": {
   "codemirror_mode": {
    "name": "ipython",
    "version": 3
   },
   "file_extension": ".py",
   "mimetype": "text/x-python",
   "name": "python",
   "nbconvert_exporter": "python",
   "pygments_lexer": "ipython3",
   "version": "3.9.12"
  }
 },
 "nbformat": 4,
 "nbformat_minor": 5
}
