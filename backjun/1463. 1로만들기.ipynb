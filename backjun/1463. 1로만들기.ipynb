{
 "cells": [
  {
   "cell_type": "code",
   "execution_count": 1,
   "id": "38b1557a",
   "metadata": {},
   "outputs": [],
   "source": [
    "# 6 /3 = 2 -> 2/2 =1   n =2 \n",
    "# 5 -1 = 4 -> 4/2 = 2 -> 2 /2 =1  n=3\n",
    "# 4 /2 =2 -> 2/2 =1 -> 1 n=2\n",
    "# 3 /3 =1 -> n=1\n",
    "# 2 /2 =1 -> n=1\n",
    "# 1 n=0"
   ]
  },
  {
   "cell_type": "code",
   "execution_count": 2,
   "id": "f43e26fc",
   "metadata": {},
   "outputs": [],
   "source": [
    "# f(1) = 0\n",
    "# f(2) = 1\n",
    "# f(3) = 1\n",
    "# f(4) = n/2 + f(2) 2\n",
    "# f(5) = n-1 + f(4) 3\n",
    "# f(6) = n/3 + f(2) 2\n",
    "# f(7) = n-1 + f(6) 3\n",
    "# f(8) = n/2 + f(4) 3\n",
    "# f(9) = n/3 + f(3) 2\n",
    "# f(10) = n/2 + f(5) 4 n-1 + f(9) 3\n",
    "# f(20) = n/2 +f(10)\n",
    "# f(30) = n/3 +f(10)\n",
    "# f(100) = n/2 +f(50)"
   ]
  },
  {
   "cell_type": "code",
   "execution_count": 13,
   "id": "cba77a5d",
   "metadata": {},
   "outputs": [
    {
     "name": "stdout",
     "output_type": "stream",
     "text": [
      "10\n",
      "3\n"
     ]
    }
   ],
   "source": [
    "n = int(input())\n",
    "memo = [0]*1000001\n",
    "def min_count(n):\n",
    "    for i in range(2,n+1):\n",
    "        memo[i] = memo[i-1] + 1\n",
    "        if i % 2 ==0:\n",
    "            memo[i] = min(memo[i],memo[i//2]+1)\n",
    "        if i % 3 ==0:\n",
    "            memo[i] = min(memo[i],memo[i//3]+1)\n",
    "        \n",
    "\n",
    "    return memo[n]\n",
    "print(min_count(n))\n",
    "    "
   ]
  },
  {
   "cell_type": "code",
   "execution_count": 9,
   "id": "75d3a6d6",
   "metadata": {},
   "outputs": [
    {
     "data": {
      "text/plain": [
       "5"
      ]
     },
     "execution_count": 9,
     "metadata": {},
     "output_type": "execute_result"
    }
   ],
   "source": [
    "10//2"
   ]
  },
  {
   "cell_type": "code",
   "execution_count": null,
   "id": "c55ad107",
   "metadata": {},
   "outputs": [],
   "source": []
  }
 ],
 "metadata": {
  "kernelspec": {
   "display_name": "Python 3 (ipykernel)",
   "language": "python",
   "name": "python3"
  },
  "language_info": {
   "codemirror_mode": {
    "name": "ipython",
    "version": 3
   },
   "file_extension": ".py",
   "mimetype": "text/x-python",
   "name": "python",
   "nbconvert_exporter": "python",
   "pygments_lexer": "ipython3",
   "version": "3.9.12"
  }
 },
 "nbformat": 4,
 "nbformat_minor": 5
}
